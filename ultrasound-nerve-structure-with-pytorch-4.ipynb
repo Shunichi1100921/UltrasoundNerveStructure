{
 "metadata": {
  "kernelspec": {
   "language": "python",
   "display_name": "Python 3",
   "name": "python3"
  },
  "language_info": {
   "pygments_lexer": "ipython3",
   "nbconvert_exporter": "python",
   "version": "3.6.4",
   "file_extension": ".py",
   "codemirror_mode": {
    "name": "ipython",
    "version": 3
   },
   "name": "python",
   "mimetype": "text/x-python"
  }
 },
 "nbformat_minor": 4,
 "nbformat": 4,
 "cells": [
  {
   "cell_type": "markdown",
   "source": [
    "## Init"
   ],
   "metadata": {
    "id": "uVKH-RugwO4x"
   }
  },
  {
   "cell_type": "code",
   "source": [
    "import datetime\n",
    "! pip install segmentation_models_pytorch albumentations\n",
    "! pip install -U git+https://github.com/albu/albumentations --no-cache-dir\n"
   ],
   "metadata": {
    "_uuid": "8f2839f25d086af736a60e9eeb907d3b93b6e0e5",
    "_cell_guid": "b1076dfc-b9ad-4769-8c92-a6c4dae69d19",
    "id": "2A16cMW7wJbm",
    "trusted": true
   },
   "execution_count": null,
   "outputs": []
  },
  {
   "cell_type": "code",
   "source": [
    "\n",
    "import os\n",
    "import csv\n",
    "import re\n",
    "import numpy as np\n",
    "import pandas as pd\n",
    "import matplotlib.pyplot as plt\n",
    "import itertools\n",
    "\n",
    "import cv2\n",
    "from tqdm.notebook import tqdm\n",
    "from glob import glob\n",
    "from PIL import Image\n",
    "from skimage.transform import resize\n",
    "from sklearn.model_selection import train_test_split, KFold\n",
    "\n",
    "import shutil\n",
    "\n",
    "import torch\n",
    "from torch.utils.data import DataLoader,Dataset\n",
    "import torch.nn as nn\n",
    "import pytorch_lightning as pl\n",
    "from pytorch_lightning.loggers import TensorBoardLogger\n",
    "import albumentations\n",
    "import torchvision\n",
    "from torchvision import transforms, models\n",
    "\n",
    "import random\n",
    "\n",
    "import segmentation_models_pytorch as smp\n",
    "from PIL import Image"
   ],
   "metadata": {
    "id": "3s_ii3ou6sH9",
    "trusted": true
   },
   "execution_count": null,
   "outputs": []
  },
  {
   "cell_type": "code",
   "source": [
    "!ls"
   ],
   "metadata": {
    "id": "twhEk37ZAAVH",
    "executionInfo": {
     "status": "ok",
     "timestamp": 1616238962444,
     "user_tz": -420,
     "elapsed": 489,
     "user": {
      "displayName": "Bob Sideshow",
      "photoUrl": "",
      "userId": "17451318496692579775"
     }
    },
    "outputId": "30e0f8e0-a374-4086-a3fa-e8b386186d08",
    "trusted": true
   },
   "execution_count": null,
   "outputs": []
  },
  {
   "cell_type": "markdown",
   "source": [
    "## Main"
   ],
   "metadata": {
    "id": "p79_tNEWDBk6"
   }
  },
  {
   "cell_type": "code",
   "source": [
    "# ROOT = \"/kaggle/input/ultrasound-nerve-segmentation/\"\n",
    "ROOT = os.path.join(os.path.dirname(os.path.abspath('.')), 'input/ultrasound-nerve-segmentation')\n",
    "# trainpath = \"/kaggle/input/ultrasound-nerve-segmentation/train/\"\n",
    "train_path = os.path.join(ROOT, 'train')\n",
    "# testpath = \"/kaggle/input/ultrasound-nerve-segmentation/test/\"\n",
    "test_path = os.path.join(ROOT, 'test')\n",
    "\n",
    "masks = [os.path.join(train_path,i) for i in os.listdir(train_path) if \"mask\" in i]\n",
    "imgs = [i.replace(\"_mask\",\"\") for i in masks]\n",
    "\n",
    "df = pd.DataFrame({\"image\":imgs,\"mask\":masks})\n",
    "\n",
    "df_train, df_val = train_test_split(df,test_size = 0.15)\n",
    "print(df_train.values.shape)\n",
    "print(df_val.values.shape)"
   ],
   "metadata": {
    "id": "chKpXFhdwJbs",
    "executionInfo": {
     "status": "ok",
     "timestamp": 1616238964685,
     "user_tz": -420,
     "elapsed": 559,
     "user": {
      "displayName": "Bob Sideshow",
      "photoUrl": "",
      "userId": "17451318496692579775"
     }
    },
    "outputId": "1d5eb015-576d-4cec-8b3b-82662fbfddb4",
    "trusted": true
   },
   "execution_count": null,
   "outputs": []
  },
  {
   "cell_type": "code",
   "source": [
    "rows,cols=3,3\n",
    "fig=plt.figure(figsize=(10,10))\n",
    "for i in range(1,rows*cols+1):\n",
    "    ii = random.randint(0, len(df))\n",
    "    fig.add_subplot(rows,cols,i)\n",
    "    img_path=df['image'][ii]\n",
    "    msk_path=df['mask'][ii]\n",
    "    plt.imshow(np.array(Image.open(img_path)), cmap = 'gray')\n",
    "    plt.imshow(np.array(Image.open(msk_path)),alpha=0.4, cmap = 'gray')\n",
    "plt.show()"
   ],
   "metadata": {
    "id": "2ODZxgi9wJbu",
    "executionInfo": {
     "status": "ok",
     "timestamp": 1616238003459,
     "user_tz": -420,
     "elapsed": 2240,
     "user": {
      "displayName": "Bob Sideshow",
      "photoUrl": "",
      "userId": "17451318496692579775"
     }
    },
    "outputId": "24e5f440-9b85-4e73-d225-6118784dd163",
    "trusted": true
   },
   "execution_count": null,
   "outputs": []
  },
  {
   "cell_type": "code",
   "source": [
    "def rle_encoding(x):\n",
    "    dots = np.where(x.T.flatten()==1)[0]\n",
    "    run_lengths = []\n",
    "    prev = -2\n",
    "    for b in dots:\n",
    "        if (b>prev+1): run_lengths.extend((b+1, 0))\n",
    "        run_lengths[-1] += 1\n",
    "        prev = b\n",
    "    return run_lengths\n",
    "\n",
    "def convert_to_tensor(x,**kwargs):\n",
    "    return x.transpose(2,0,1).astype(\"float32\")\n",
    "\n",
    "def func_for_preprocessing(preprocessing_fn=None):\n",
    "    transform = []\n",
    "    if preprocessing_fn:\n",
    "        transform.append(albumentations.Lambda(image=preprocessing_fn))\n",
    "    transform.append(albumentations.Lambda(image=convert_to_tensor))\n",
    "    return albumentations.Compose(transform)\n",
    "\n",
    "def trainaugs():\n",
    "    transform =  [\n",
    "                albumentations.Resize(height=224,width=224,interpolation=Image.BILINEAR),\n",
    "                albumentations.RandomBrightnessContrast(brightness_limit=0.15, contrast_limit=0),\n",
    "                albumentations.ShiftScaleRotate(rotate_limit=15, shift_limit=0.15, scale_limit=0.2),\n",
    "                albumentations.HorizontalFlip(),\n",
    "            ]\n",
    "    return albumentations.Compose(transform)\n",
    "\n",
    "def valaugs():\n",
    "    transform = [\n",
    "                albumentations.Resize(height=224,width=224,interpolation=Image.BILINEAR),\n",
    "            ]\n",
    "    return albumentations.Compose(transform)\n",
    "\n",
    "\n",
    "class GetDataset(Dataset):\n",
    "    def __init__(self,imagespath,maskspath,augment=None,preprocess=None):\n",
    "        self.imagespath = imagespath\n",
    "        self.maskspath = maskspath\n",
    "        self.augment = augment\n",
    "        self.preprocess = preprocess\n",
    "        \n",
    "    def __len__(self):\n",
    "        return len(self.imagespath)\n",
    "    \n",
    "    def __getitem__(self,idx):\n",
    "        image = cv2.cvtColor(cv2.imread(self.imagespath[idx]),cv2.COLOR_BGR2RGB)\n",
    "        mask = cv2.imread(self.maskspath[idx], cv2.IMREAD_GRAYSCALE)\n",
    "\n",
    "        if self.augment:\n",
    "            sample = self.augment(image=image, mask=mask)\n",
    "            image,mask = sample['image'],sample['mask']\n",
    "        if self.preprocess:\n",
    "            sample = self.preprocess(image=image,mask=mask)\n",
    "            image,mask = sample['image'],sample['mask']\n",
    "\n",
    "        mask = (mask / 255).astype(np.float32)\n",
    "        mask = np.expand_dims(mask, axis=0)\n",
    "\n",
    "        return image,mask"
   ],
   "metadata": {
    "id": "DUNcujXmwJbu",
    "trusted": true
   },
   "execution_count": null,
   "outputs": []
  },
  {
   "cell_type": "code",
   "source": [
    "encoder = \"resnet34\"\n",
    "encoder_wts = \"imagenet\"\n",
    "activation = \"sigmoid\"\n",
    "\n",
    "\n",
    "backbone = smp.DeepLabV3Plus(encoder_name=encoder,activation=activation,encoder_weights=encoder_wts)\n",
    "preprocess_func = smp.encoders.get_preprocessing_fn(encoder,encoder_wts)\n",
    "\n",
    "\n",
    "traindata = GetDataset(imagespath = df_train['image'].tolist(),\n",
    "                            maskspath = df_train['mask'].tolist(),\n",
    "                            augment = trainaugs(),\n",
    "                            preprocess = func_for_preprocessing(preprocess_func))\n",
    "\n",
    "validationdata = GetDataset(imagespath = df_val['image'].tolist(),\n",
    "                            maskspath = df_val['mask'].tolist(),\n",
    "                            augment = valaugs(),\n",
    "                           preprocess = func_for_preprocessing(preprocess_func))\n",
    "\n",
    "batch_size = 16\n",
    "trainloader = DataLoader(traindata,batch_size = batch_size,shuffle=True)\n",
    "valloader = DataLoader(validationdata,batch_size=batch_size,shuffle=False)\n"
   ],
   "metadata": {
    "id": "k2DcBUqUwJbw",
    "trusted": true
   },
   "execution_count": null,
   "outputs": []
  },
  {
   "cell_type": "code",
   "source": [
    "# trainmodel = True\n",
    "# epochs = 20\n",
    "# device = \"cuda\"\n",
    "# loss = smp.losses.DiceLoss(mode='binary', log_loss=False, from_logits=False, smooth=1)\n",
    "# metrics = [ smp.metrics.iou_score ]\n",
    "# optimizer = torch.optim.Adam([dict(params=model.parameters(), lr=0.001)])\n",
    "# lr_scheduler = torch.optim.lr_scheduler.CosineAnnealingLR(optimizer, epochs)\n",
    "\n"
   ],
   "metadata": {
    "id": "vu36-j1AwJbx",
    "trusted": true
   },
   "execution_count": null,
   "outputs": []
  },
  {
   "cell_type": "code",
   "execution_count": null,
   "outputs": [],
   "source": [
    "class LitSegmentationModule(pl.LightningModule):\n",
    "    def __init__(self, model, lr=0.01):\n",
    "        super().__init__()\n",
    "        self.model = model\n",
    "        self.lr = lr\n",
    "        self.save_hyperparameters()\n",
    "        self.example_input_array = torch.Tensor(8, 1, 224, 224)\n",
    "        self.configure_loss_fn()\n",
    "        self.configure_metrics_fn()\n",
    "\n",
    "    def forward(self, x):\n",
    "        return self.model(x)\n",
    "\n",
    "    def training_step(self, batch, batch_idx):\n",
    "        img, target = batch['img'], batch['mask']\n",
    "        prediction = self.model(img)\n",
    "        loss = self.loss_fn(prediction, target)\n",
    "        self.log('train_loss', loss, on_epoch=True)\n",
    "        return loss\n",
    "\n",
    "    def validation_step(self, batch, batch_idx):\n",
    "        img,target = batch['img'], batch['mask']\n",
    "        prediction = self.model(img)\n",
    "        loss = self.loss_fn(prediction, target)\n",
    "        self.log('val_loss', loss, on_epoch=True)\n",
    "        metrics = self.metrics_fn(prediction, target)\n",
    "        self.log_dict(metrics, on_epoch=True)\n",
    "        return loss\n",
    "\n",
    "    def configure_loss_fn(self):\n",
    "        self.loss_fn= smp.losses.DiceLoss(mode='binary', log_loss=False, from_logits=False, smooth=1)\n",
    "\n",
    "    def configure_metrics_fn(self):\n",
    "        self.metrics_fn = [ smp.metrics.iou_score ]\n",
    "\n",
    "    def configure_optimizers(self):\n",
    "        optimizer = torch.optim.Adam(self.parameters(), lr=self.lr)\n",
    "        scheduler = torch.optim.lr_scheduler.CosineAnnealingLR(optimizer, T_max=self.trainer.max_epochs)\n",
    "        return [optimizer, ], [scheduler]\n"
   ],
   "metadata": {
    "collapsed": false
   }
  },
  {
   "cell_type": "code",
   "execution_count": null,
   "outputs": [],
   "source": [
    "default_root_dir = os.path.join(os.path.dirname(os.getcwd()), 'working')\n",
    "log_dir = os.path.join(default_root_dir, 'logs')\n",
    "\n",
    "model = LitSegmentationModule(backbone, lr=0.001)\n",
    "\n",
    "model_name = type(model.model).__name__\n",
    "JST = datetime.timezone(datetime.timedelta(hours=+9), 'JST')\n",
    "now_str = datetime.datetime.now(JST).strftime('%Y%m%d_%H.%M')\n",
    "log_name = now_str + model_name + '_logs'\n",
    "tensorboard_logger = pl.loggers.TensorBoardLogger(save_dir=log_dir, name=log_name)\n",
    "\n",
    "trainer = pl.Trainer(fast_dev_run=True, devices='auto', accelerator='auto', default_root_dir=default_root_dir, logger=tensorboard_logger, max_epochs=40, check_val_every_n_epoch=3, benchmark=False, num_sanity_val_steps=0, enable_progress_bar=True)\n",
    "trainer.fit(model, trainloader, valloader)"
   ],
   "metadata": {
    "collapsed": false
   }
  },
  {
   "cell_type": "code",
   "execution_count": null,
   "outputs": [],
   "source": [
    "# best_iou_score = 0.0\n",
    "# train_logs_list, valid_logs_list = [], []\n",
    "# for i in range(0,epochs):\n",
    "#     print('\\nEpoch: {}'.format(i))\n",
    "#     trainlogs = trainepoch.run(trainloader)\n",
    "#     validlogs = validepoch.run(valloader)\n",
    "#     lr_scheduler.step()\n",
    "#\n",
    "#     train_logs_list.append(trainlogs)\n",
    "#     valid_logs_list.append(validlogs)\n",
    "#     if best_iou_score < validlogs['iou_score']:\n",
    "#         best_iou_score = validlogs['iou_score']\n",
    "#         torch.save(model, './best_model.pth')"
   ],
   "metadata": {
    "collapsed": false
   }
  },
  {
   "cell_type": "code",
   "source": [
    "# train_logs_df = pd.DataFrame(train_logs_list)\n",
    "# valid_logs_df = pd.DataFrame(valid_logs_list)\n",
    "# train_logs_df.T"
   ],
   "metadata": {
    "id": "4epEGzICwJby",
    "executionInfo": {
     "status": "ok",
     "timestamp": 1616243651248,
     "user_tz": -420,
     "elapsed": 652,
     "user": {
      "displayName": "Bob Sideshow",
      "photoUrl": "",
      "userId": "17451318496692579775"
     }
    },
    "outputId": "3d8fff18-3eee-4d8f-f041-9baeb81f525f",
    "trusted": true
   },
   "execution_count": null,
   "outputs": []
  },
  {
   "cell_type": "code",
   "source": [
    "# plt.figure(figsize=(10,4))\n",
    "# plt.plot(train_logs_df.index.tolist(), train_logs_df.iou_score.tolist(),'g-',lw=3, label = 'Train')\n",
    "# plt.plot(valid_logs_df.index.tolist(), valid_logs_df.iou_score.tolist(),'r-' ,lw=3, label = 'Valid')\n",
    "# plt.xlabel('Epochs', fontsize=20)\n",
    "# plt.ylabel('IoU Score', fontsize=20)\n",
    "# plt.title('IoU Score Plot', fontsize=20)\n",
    "# plt.legend(loc='best', fontsize=16)\n",
    "# plt.grid()\n",
    "# plt.show()\n",
    "#\n",
    "# plt.figure(figsize=(10,4))\n",
    "# plt.plot(train_logs_df.index.tolist(), train_logs_df.dice_loss.tolist(),'g-',lw=3, label = 'Train')\n",
    "# plt.plot(valid_logs_df.index.tolist(), valid_logs_df.dice_loss.tolist(),'r-' ,lw=3, label = 'Valid')\n",
    "# plt.xlabel('Epochs', fontsize=20)\n",
    "# plt.ylabel('Dice Loss', fontsize=20)\n",
    "# plt.title('Dice Loss', fontsize=20)\n",
    "# plt.legend(loc='best', fontsize=16)\n",
    "# plt.grid()\n",
    "# plt.show()"
   ],
   "metadata": {
    "id": "MtQP7_27wJbz",
    "executionInfo": {
     "status": "ok",
     "timestamp": 1616243653573,
     "user_tz": -420,
     "elapsed": 1389,
     "user": {
      "displayName": "Bob Sideshow",
      "photoUrl": "",
      "userId": "17451318496692579775"
     }
    },
    "outputId": "70e1b926-4945-42d4-a28d-d5f31c532be6",
    "trusted": true
   },
   "execution_count": null,
   "outputs": []
  },
  {
   "cell_type": "markdown",
   "source": [
    "## Test best saved model"
   ],
   "metadata": {
    "id": "jJ86IMVPJl-K"
   }
  },
  {
   "cell_type": "code",
   "source": [
    "best_model = torch.load('./best_model.pth')\n",
    "\n",
    "device = torch.device('cuda' if torch.cuda.is_available() else 'cpu')\n",
    "\n",
    "test_dataset = GetDataset(imagespath = df_val['image'].tolist(),\n",
    "                            maskspath = df_val['mask'].tolist(),\n",
    "                            augment = valaugs(),\n",
    "                           preprocess = func_for_preprocessing(preprocess_func))\n",
    "\n",
    "\n",
    "test_dataset_vis = GetDataset(imagespath = df_val['image'].tolist(),\n",
    "                            maskspath = df_val['mask'].tolist())\n",
    "\n",
    "\n",
    "def visualize(**images):\n",
    "    n = len(images)\n",
    "    plt.figure(figsize=(16, 5))\n",
    "    for i, (name, image) in enumerate(images.items()):\n",
    "        plt.subplot(1, n, i + 1)\n",
    "        plt.xticks([])\n",
    "        plt.yticks([])\n",
    "        plt.title(' '.join(name.split('_')).title())\n",
    "        if image.shape[0] == 3:\n",
    "            image = image.transpose([1, 2, 0])\n",
    "        plt.imshow(image)\n",
    "    plt.show()\n",
    "\n",
    "for i in range(25):\n",
    "    n = np.random.choice(len(test_dataset))\n",
    "    \n",
    "    image_vis = test_dataset_vis[n][0].astype('uint8')\n",
    "    mask_vis = test_dataset_vis[n][1].astype('uint8')\n",
    "    image, gt_mask = test_dataset[n]\n",
    "    \n",
    "    gt_mask = gt_mask.squeeze()\n",
    "    \n",
    "    x_tensor = torch.from_numpy(image).to(device).unsqueeze(0)\n",
    "    pr_mask = best_model.predict(x_tensor)\n",
    "    pr_mask = pr_mask.squeeze().cpu().numpy().round()\n",
    "\n",
    "    kernel = np.ones((5,5),np.uint8)\n",
    "    pr_mask_er = cv2.erode(pr_mask,kernel,iterations = 4)\n",
    "    pr_mask_er = cv2.dilate(pr_mask_er,kernel,iterations = 4)\n",
    "\n",
    "    pr_mask = cv2.resize(pr_mask, (580, 420))\n",
    "    pr_mask_er = cv2.resize(pr_mask_er, (580, 420))\n",
    "\n",
    "    mask_vis = mask_vis.squeeze()\n",
    "\n",
    "    visualize(\n",
    "        image=image_vis, \n",
    "        ground_truth_mask=mask_vis, \n",
    "        predicted_mask=pr_mask,\n",
    "        predicted_mask_erosion_with_dilation=pr_mask_er\n",
    "    )"
   ],
   "metadata": {
    "id": "jYidA43gK_an",
    "executionInfo": {
     "status": "ok",
     "timestamp": 1616243713408,
     "user_tz": -420,
     "elapsed": 8958,
     "user": {
      "displayName": "Bob Sideshow",
      "photoUrl": "",
      "userId": "17451318496692579775"
     }
    },
    "outputId": "34ca935e-7b9b-4d6e-a4da-7bc1b30ac391",
    "trusted": true
   },
   "execution_count": null,
   "outputs": []
  },
  {
   "cell_type": "markdown",
   "source": [
    "## Test evaluation"
   ],
   "metadata": {
    "id": "KQ2omdq0W26N"
   }
  },
  {
   "cell_type": "code",
   "source": [
    "imgs = [f for f in os.listdir(test_path)]\n",
    "imgs = sorted(imgs, key=lambda s: int(s.split('.')[0]))\n",
    "\n",
    "encodings = []\n",
    "\n",
    "for m in tqdm(imgs):\n",
    "    x = cv2.imread(os.path.join(test_path, m))\n",
    "\n",
    "    x = valaugs()(image=x)['image']\n",
    "    x = func_for_preprocessing(preprocess_func)(image=x)['image']\n",
    "\n",
    "    x_tensor = torch.from_numpy(x).to(device).unsqueeze(0)\n",
    "    pr_mask = best_model.predict(x_tensor)\n",
    "\n",
    "    pr_mask = pr_mask.squeeze().cpu().numpy().round().astype(np.uint8)\n",
    "    pr_mask = albumentations.Resize(height=420,width=580,interpolation=Image.NEAREST)(image=pr_mask)['image']\n",
    "\n",
    "    encodings.append(rle_encoding(pr_mask))"
   ],
   "metadata": {
    "id": "-Re_PuSdyii6",
    "executionInfo": {
     "status": "ok",
     "timestamp": 1616244054057,
     "user_tz": -420,
     "elapsed": 296236,
     "user": {
      "displayName": "Bob Sideshow",
      "photoUrl": "",
      "userId": "17451318496692579775"
     }
    },
    "outputId": "f2e65b4c-4b2d-4ded-c527-cd8cfb235cfe",
    "trusted": true
   },
   "execution_count": null,
   "outputs": []
  },
  {
   "cell_type": "code",
   "source": [
    "df_submission = pd.DataFrame(columns=[\"img\", \"pixels\"])\n",
    "for i, encoding in enumerate(encodings):\n",
    "    pixels = ' '.join(map(str, encoding))\n",
    "    df_submission.loc[i] = [str(i+1), pixels]\n",
    "\n",
    "df_submission.to_csv('submission.csv', index=False)"
   ],
   "metadata": {
    "id": "xnIjixIG3i8x",
    "collapsed": true,
    "jupyter": {
     "outputs_hidden": true
    },
    "trusted": true
   },
   "execution_count": null,
   "outputs": []
  }
 ]
}
